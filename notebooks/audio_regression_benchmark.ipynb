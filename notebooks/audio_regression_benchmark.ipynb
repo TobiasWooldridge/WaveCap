{
 "cells": [
  {
   "cell_type": "markdown",
   "metadata": {},
   "source": [
    "# Audio Regression Benchmark\n",
    "\n",
    "Run curated audio fixtures through the configured Whisper model to track accuracy changes as fine-tuning progresses. Adjust the model name or language hint to compare different checkpoints." 
   ]
  },
  {
   "cell_type": "code",
   "execution_count": null,
   "metadata": {},
   "outputs": [],
   "source": [
    "from pathlib import Path\n",
    "from datetime import datetime\n",
    "import json\n",
    "\n",
    "from wavecap_backend.audio_processing import AudioFrontEndConfig\n",
    "from wavecap_backend.audio_regression import evaluate_corpus, load_regression_cases\n",
    "from wavecap_backend.config import load_config\n",
    "from wavecap_backend.whisper_transcriber import WhisperTranscriber\n",
    "\n",
    "CASES_PATH = Path('../backend/audio_regression/cases.jsonl')\n",
    "RESULTS_DIR = Path('../backend/audio_regression')\n",
    "RESULT_LOG = RESULTS_DIR / 'benchmark-history.jsonl'\n",
    "\n",
    "cases = load_regression_cases(CASES_PATH)\n",
    "print(f'Loaded {len(cases)} regression cases from {CASES_PATH}')\n"
   ]
  },
  {
   "cell_type": "code",
   "execution_count": null,
   "metadata": {},
   "outputs": [],
   "source": [
    "config = load_config()\n",
    "whisper_config = config.whisper.model_copy(deep=True)\n",
    "# Override the checkpoint or language hint here if required.\n",
    "# whisper_config.model = 'small.en'\n",
    "# whisper_config.language = 'en'\n",
    "deemphasis = (\n",
    "    None\n",
    "    if whisper_config.deemphasisTimeConstantMicros is None\n",
    "    else float(whisper_config.deemphasisTimeConstantMicros) * 1e-6\n",
    ")\n",
    "frontend_config = AudioFrontEndConfig(\n",
    "    sample_rate=whisper_config.sampleRate,\n",
    "    highpass_cutoff_hz=whisper_config.highpassCutoffHz,\n",
    "    lowpass_cutoff_hz=whisper_config.lowpassCutoffHz,\n",
    "    deemphasis_time_constant=deemphasis,\n",
    "    agc_target_rms=None,\n",
    ")\n",
    "transcriber = WhisperTranscriber(whisper_config)\n",
    "summary = evaluate_corpus(\n",
    "    cases,\n",
    "    transcriber,\n",
    "    sample_rate=whisper_config.sampleRate,\n",
    "    language=whisper_config.language,\n",
    "    frontend_config=frontend_config,\n",
    "    agc_target_rms=whisper_config.agcTargetRms,\n",
    ")\n",
    "summary.to_report()\n"
   ]
  },
  {
   "cell_type": "code",
   "execution_count": null,
   "metadata": {},
   "outputs": [],
   "source": [
    "record = summary.to_report()\n",
    "record.update(\n",
    "    {\n",
    "        'model': whisper_config.model,\n",
    "        'language': whisper_config.language,\n",
    "        'evaluated_at': datetime.utcnow().isoformat() + 'Z',\n",
    "    }\n",
    ")\n",
    "RESULT_LOG.parent.mkdir(parents=True, exist_ok=True)\n",
    "with RESULT_LOG.open('a', encoding='utf-8') as handle:\n",
    "    handle.write(json.dumps(record))\n",
    "    handle.write('\n')\n",
    "print(f'Appended results to {RESULT_LOG}')\n"
   ]
  }
 ],
 "metadata": {
  "kernelspec": {
   "display_name": "Python 3",
   "language": "python",
   "name": "python3"
  },
  "language_info": {
   "name": "python",
   "version": "3.10"
  }
 },
 "nbformat": 4,
 "nbformat_minor": 5
}
